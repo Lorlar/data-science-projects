{
 "cells": [
  {
   "cell_type": "markdown",
   "id": "276f3a83",
   "metadata": {},
   "source": [
    "# INTRODUCTION TO DATA SCIENCE"
   ]
  },
  {
   "cell_type": "markdown",
   "id": "d25733e7",
   "metadata": {},
   "source": [
    "# DATA PREPROCESSING"
   ]
  },
  {
   "cell_type": "code",
   "execution_count": null,
   "id": "72526b46",
   "metadata": {},
   "outputs": [],
   "source": [
    "#WORKING WITH DATA FOR INCITE\n",
    "#BASIC CONCEPTS IN DATA SCIENCE"
   ]
  },
  {
   "cell_type": "code",
   "execution_count": null,
   "id": "fd509e52",
   "metadata": {},
   "outputs": [],
   "source": [
    "#DESIGN A WORKING CALCULATOR\n",
    "#WHAT IS BUSINESS INTELLIGENCE?\n",
    "#GENERALLY BUSINESS INTELLIGENCE IS THE AGGREGATION DATA OF D BUSINESS TO ANALYSE THE DATA AND PROVIDE A SUMMARY\n",
    "#AND INCITE FOR MAKING DECISIONS USING POWERBI,\n",
    "#THE APPLICATION TO ANALYSE EACH DATASET AND PROVIDE INCITE FOR DECISION MAKING\n",
    "#THEY PLOT TREND ANALYSIS TO MAKE PROJECTIONS\n",
    "#THEY COMPARE MEAN AND DETERMINE WHERE THE VARIANCE IS "
   ]
  },
  {
   "cell_type": "code",
   "execution_count": null,
   "id": "699b98df",
   "metadata": {},
   "outputs": [],
   "source": [
    "'''when business set targets, analyst use POWERBI to use \n",
    "eg a bank has target of 1B, a busines analyst will aggregate customer data that give profit\n",
    "they compare the performance of the business to the target of the company using variance\n",
    "BUSINESS INTELLIGENCE DONT MAKE PREDICTION BUT FORCAST BASED ON THE COMMUNITY AVERAGE AND PERFORMANCE OF THE BUSINESS"
   ]
  },
  {
   "cell_type": "code",
   "execution_count": null,
   "id": "6aa67a23",
   "metadata": {},
   "outputs": [],
   "source": [
    "#BUT IN DATA SCIENCE, WE DONT MAKE FORCAST, WE MAKE PREDICTION\n",
    "#IS MORE ABOUT PREDICTION ABOUT OUR DATA\n",
    "#"
   ]
  },
  {
   "cell_type": "code",
   "execution_count": null,
   "id": "ba77ac2d",
   "metadata": {},
   "outputs": [],
   "source": []
  },
  {
   "cell_type": "code",
   "execution_count": null,
   "id": "ee925aa6",
   "metadata": {},
   "outputs": [],
   "source": []
  },
  {
   "cell_type": "code",
   "execution_count": null,
   "id": "0aa8f252",
   "metadata": {},
   "outputs": [],
   "source": []
  },
  {
   "cell_type": "code",
   "execution_count": null,
   "id": "8e836077",
   "metadata": {},
   "outputs": [],
   "source": []
  },
  {
   "cell_type": "code",
   "execution_count": null,
   "id": "e883453d",
   "metadata": {},
   "outputs": [],
   "source": []
  },
  {
   "cell_type": "code",
   "execution_count": null,
   "id": "fdfc0225",
   "metadata": {},
   "outputs": [],
   "source": []
  }
 ],
 "metadata": {
  "kernelspec": {
   "display_name": "Python 3 (ipykernel)",
   "language": "python",
   "name": "python3"
  },
  "language_info": {
   "codemirror_mode": {
    "name": "ipython",
    "version": 3
   },
   "file_extension": ".py",
   "mimetype": "text/x-python",
   "name": "python",
   "nbconvert_exporter": "python",
   "pygments_lexer": "ipython3",
   "version": "3.9.7"
  }
 },
 "nbformat": 4,
 "nbformat_minor": 5
}
