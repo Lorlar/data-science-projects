{
 "cells": [
  {
   "cell_type": "code",
   "execution_count": 3,
   "id": "833e8c4b",
   "metadata": {},
   "outputs": [
    {
     "name": "stdout",
     "output_type": "stream",
     "text": [
      "10\n"
     ]
    }
   ],
   "source": [
    "studentName='Agatha'\n",
    "studentAge=25\n",
    "countLunchBag=1\n",
    "countEggs=4\n",
    "countOranges=5\n",
    "bottleOfWater=1\n",
    "print(countLunchBag+ countEggs+countOranges)"
   ]
  },
  {
   "cell_type": "code",
   "execution_count": 4,
   "id": "b09c3af0",
   "metadata": {},
   "outputs": [
    {
     "data": {
      "text/plain": [
       "int"
      ]
     },
     "execution_count": 4,
     "metadata": {},
     "output_type": "execute_result"
    }
   ],
   "source": [
    "type(countOranges)"
   ]
  },
  {
   "cell_type": "code",
   "execution_count": 6,
   "id": "78e3ee2b",
   "metadata": {},
   "outputs": [],
   "source": [
    "myCity='Mumbai'"
   ]
  },
  {
   "cell_type": "code",
   "execution_count": 9,
   "id": "1f10e5f8",
   "metadata": {},
   "outputs": [
    {
     "name": "stdout",
     "output_type": "stream",
     "text": [
      "Mumbai\n"
     ]
    }
   ],
   "source": [
    "print(myCity)"
   ]
  },
  {
   "cell_type": "code",
   "execution_count": 10,
   "id": "6b6d707f",
   "metadata": {},
   "outputs": [
    {
     "name": "stdout",
     "output_type": "stream",
     "text": [
      "41\n"
     ]
    }
   ],
   "source": [
    "x,y,z=34,55,41\n",
    "print(z)"
   ]
  },
  {
   "cell_type": "code",
   "execution_count": null,
   "id": "7fa8ef9f",
   "metadata": {},
   "outputs": [],
   "source": [
    "x,y,z=[34,55,41] #list"
   ]
  },
  {
   "cell_type": "code",
   "execution_count": 11,
   "id": "bfcea647",
   "metadata": {},
   "outputs": [
    {
     "name": "stdout",
     "output_type": "stream",
     "text": [
      "[45, 'agatha', 45.9]\n"
     ]
    }
   ],
   "source": [
    "list1=[45, 'agatha',45.9]\n",
    "print(list1)"
   ]
  },
  {
   "cell_type": "code",
   "execution_count": 12,
   "id": "2ffb74ca",
   "metadata": {},
   "outputs": [
    {
     "data": {
      "text/plain": [
       "int"
      ]
     },
     "execution_count": 12,
     "metadata": {},
     "output_type": "execute_result"
    }
   ],
   "source": [
    "mySaving=5000\n",
    "type(mySaving)"
   ]
  },
  {
   "cell_type": "code",
   "execution_count": 13,
   "id": "dbb8ab55",
   "metadata": {},
   "outputs": [
    {
     "data": {
      "text/plain": [
       "5000.0"
      ]
     },
     "execution_count": 13,
     "metadata": {},
     "output_type": "execute_result"
    }
   ],
   "source": [
    "float(mySaving)  #converting from one data type to another#"
   ]
  },
  {
   "cell_type": "code",
   "execution_count": 15,
   "id": "7f20385c",
   "metadata": {},
   "outputs": [
    {
     "data": {
      "text/plain": [
       "23"
      ]
     },
     "execution_count": 15,
     "metadata": {},
     "output_type": "execute_result"
    }
   ],
   "source": [
    "myAge='23'\n",
    "int(myAge) #converting from one data type to another#"
   ]
  },
  {
   "cell_type": "code",
   "execution_count": 17,
   "id": "29ef0bba",
   "metadata": {},
   "outputs": [
    {
     "name": "stdout",
     "output_type": "stream",
     "text": [
      "15\n"
     ]
    }
   ],
   "source": [
    "#i love Python\n",
    "x=15\n",
    "print(x)"
   ]
  },
  {
   "cell_type": "code",
   "execution_count": 18,
   "id": "22623695",
   "metadata": {},
   "outputs": [
    {
     "name": "stdout",
     "output_type": "stream",
     "text": [
      "15\n"
     ]
    }
   ],
   "source": [
    "'''\n",
    "my name is Omolola'''\n",
    "x=15\n",
    "print(x)"
   ]
  },
  {
   "cell_type": "code",
   "execution_count": 20,
   "id": "cd27f4b5",
   "metadata": {},
   "outputs": [
    {
     "name": "stdout",
     "output_type": "stream",
     "text": [
      "1943.2000000000003\n",
      "102.27368421052633\n"
     ]
    }
   ],
   "source": [
    "j=34.7\n",
    "g=56\n",
    "k=j*g\n",
    "print(k)\n",
    "f=k/19\n",
    "print(f)"
   ]
  },
  {
   "cell_type": "code",
   "execution_count": null,
   "id": "ed58f3cd",
   "metadata": {},
   "outputs": [],
   "source": [
    "#index position starts from 0 to the last value\n",
    "#strings have indexing of character position."
   ]
  },
  {
   "cell_type": "code",
   "execution_count": 25,
   "id": "263b6e55",
   "metadata": {},
   "outputs": [],
   "source": [
    "str1='Hello World'\n",
    "#Index positions here are 0,1,2,3,4,5,6,7,8,9,10"
   ]
  },
  {
   "cell_type": "code",
   "execution_count": 34,
   "id": "0cd1d64f",
   "metadata": {},
   "outputs": [
    {
     "data": {
      "text/plain": [
       "'Hello'"
      ]
     },
     "execution_count": 34,
     "metadata": {},
     "output_type": "execute_result"
    }
   ],
   "source": [
    "#string slicing\n",
    "#Task: extract .Hello from str1\n",
    "str1[0:5] #last item is usually n-1 of the specified index position"
   ]
  },
  {
   "cell_type": "code",
   "execution_count": 26,
   "id": "5c58bf4b",
   "metadata": {},
   "outputs": [
    {
     "data": {
      "text/plain": [
       "'Hello'"
      ]
     },
     "execution_count": 26,
     "metadata": {},
     "output_type": "execute_result"
    }
   ],
   "source": [
    "str1[0:5]"
   ]
  },
  {
   "cell_type": "code",
   "execution_count": 32,
   "id": "a26612da",
   "metadata": {},
   "outputs": [
    {
     "data": {
      "text/plain": [
       "'World'"
      ]
     },
     "execution_count": 32,
     "metadata": {},
     "output_type": "execute_result"
    }
   ],
   "source": [
    "str1[6:11]"
   ]
  },
  {
   "cell_type": "code",
   "execution_count": 33,
   "id": "f5b6a6f1",
   "metadata": {},
   "outputs": [
    {
     "data": {
      "text/plain": [
       "'World'"
      ]
     },
     "execution_count": 33,
     "metadata": {},
     "output_type": "execute_result"
    }
   ],
   "source": [
    "str1[6:]"
   ]
  },
  {
   "cell_type": "code",
   "execution_count": 43,
   "id": "99f63124",
   "metadata": {},
   "outputs": [],
   "source": [
    "studName=\"Jane_Lungu_089756\""
   ]
  },
  {
   "cell_type": "code",
   "execution_count": 42,
   "id": "fc12a69f",
   "metadata": {},
   "outputs": [
    {
     "name": "stdout",
     "output_type": "stream",
     "text": [
      "Jane\n"
     ]
    }
   ],
   "source": [
    "fisrtName=studName[0:4]\n",
    "print(fisrtName)"
   ]
  },
  {
   "cell_type": "code",
   "execution_count": 47,
   "id": "99d6fc9d",
   "metadata": {},
   "outputs": [
    {
     "name": "stdout",
     "output_type": "stream",
     "text": [
      "Lungu\n"
     ]
    }
   ],
   "source": [
    "lastName=studName[5:10]\n",
    "print(lastName)"
   ]
  },
  {
   "cell_type": "code",
   "execution_count": 48,
   "id": "0cd4c65c",
   "metadata": {},
   "outputs": [
    {
     "name": "stdout",
     "output_type": "stream",
     "text": [
      "089756\n"
     ]
    }
   ],
   "source": [
    "stud_id=studName[11:]\n",
    "print(stud_id)"
   ]
  },
  {
   "cell_type": "code",
   "execution_count": 50,
   "id": "7d8f7fdd",
   "metadata": {},
   "outputs": [
    {
     "name": "stdout",
     "output_type": "stream",
     "text": [
      "Jane Lungu\n"
     ]
    }
   ],
   "source": [
    "#getting full name for Jane, \n",
    "fullName=fisrtName + \" \" + lastName\n",
    "print (fullName)"
   ]
  },
  {
   "cell_type": "code",
   "execution_count": 63,
   "id": "780ad5af",
   "metadata": {},
   "outputs": [
    {
     "name": "stdout",
     "output_type": "stream",
     "text": [
      "['Jane_Lungu_089756']\n"
     ]
    }
   ],
   "source": [
    "#using split function\n",
    "fullname2=studName.split(\" \")[0:1]\n",
    "print(fullname2)"
   ]
  },
  {
   "cell_type": "code",
   "execution_count": 60,
   "id": "145f0115",
   "metadata": {},
   "outputs": [],
   "source": [
    "#splitting strings"
   ]
  },
  {
   "cell_type": "code",
   "execution_count": null,
   "id": "49b5e064",
   "metadata": {},
   "outputs": [],
   "source": [
    "studName=\"Jane_Lungu_089756\"\n",
    "#.split, returns a list of sub strings from the input string"
   ]
  },
  {
   "cell_type": "code",
   "execution_count": 66,
   "id": "74c505b3",
   "metadata": {},
   "outputs": [
    {
     "name": "stdout",
     "output_type": "stream",
     "text": [
      "['Jane', 'Lungu', '089756']\n"
     ]
    }
   ],
   "source": [
    "subList=studName.split(\"_\")# a common character seperaring the words is \"_\", we can use dis character to seperate the words \n",
    "print(subList)"
   ]
  },
  {
   "cell_type": "code",
   "execution_count": 74,
   "id": "cf297781",
   "metadata": {},
   "outputs": [
    {
     "name": "stdout",
     "output_type": "stream",
     "text": [
      "['Lois', 'Oshosanya', '001']\n"
     ]
    }
   ],
   "source": [
    "stud_id=\"Lois_Oshosanya_001\"\n",
    "subLois=stud_id.split('_')\n",
    "print(subLois)"
   ]
  },
  {
   "cell_type": "code",
   "execution_count": 83,
   "id": "0efa55c8",
   "metadata": {},
   "outputs": [],
   "source": [
    "vulgarWords=[\"hell\", \"Dam it\"]"
   ]
  },
  {
   "cell_type": "code",
   "execution_count": 89,
   "id": "1d5b36b9",
   "metadata": {},
   "outputs": [],
   "source": [
    "sentence=\"I love you but I cant marry you, Get the hell out of my life, Dam it\""
   ]
  },
  {
   "cell_type": "code",
   "execution_count": 78,
   "id": "57bcf4c0",
   "metadata": {},
   "outputs": [
    {
     "data": {
      "text/plain": [
       "['I',\n",
       " 'love',\n",
       " 'you',\n",
       " 'but',\n",
       " 'I',\n",
       " 'cant',\n",
       " 'marry',\n",
       " 'you.',\n",
       " 'Get',\n",
       " 'the',\n",
       " 'hell',\n",
       " 'out',\n",
       " 'of',\n",
       " 'my',\n",
       " 'life']"
      ]
     },
     "execution_count": 78,
     "metadata": {},
     "output_type": "execute_result"
    }
   ],
   "source": [
    "sentence.split(\" \")"
   ]
  },
  {
   "cell_type": "code",
   "execution_count": 86,
   "id": "8da9c76b",
   "metadata": {},
   "outputs": [],
   "source": [
    "#loops=for words in sentence.split to show scope of word.\n",
    "\n"
   ]
  },
  {
   "cell_type": "code",
   "execution_count": 91,
   "id": "8e1e54c4",
   "metadata": {},
   "outputs": [
    {
     "name": "stdout",
     "output_type": "stream",
     "text": [
      "found a vulgar word : hell\n"
     ]
    }
   ],
   "source": [
    "vulgarWords = [\"hell\", \"Dam it\"]\n",
    "\n",
    "for word in sentence.split(\" \"):\n",
    "    if word in vulgarWords:\n",
    "        print('found a vulgar word :', word)"
   ]
  },
  {
   "cell_type": "markdown",
   "id": "b1a2bf78",
   "metadata": {},
   "source": [
    "# stanleyomeike@gmail.com"
   ]
  },
  {
   "cell_type": "code",
   "execution_count": null,
   "id": "1ecbe463",
   "metadata": {},
   "outputs": [],
   "source": [
    "#This should be able to locate mixing references in a thesis or a paper"
   ]
  },
  {
   "cell_type": "code",
   "execution_count": null,
   "id": "b22e05b1",
   "metadata": {},
   "outputs": [],
   "source": [
    "#the last index position in a string is alsp referenced by a n-1 "
   ]
  }
 ],
 "metadata": {
  "kernelspec": {
   "display_name": "Python 3 (ipykernel)",
   "language": "python",
   "name": "python3"
  },
  "language_info": {
   "codemirror_mode": {
    "name": "ipython",
    "version": 3
   },
   "file_extension": ".py",
   "mimetype": "text/x-python",
   "name": "python",
   "nbconvert_exporter": "python",
   "pygments_lexer": "ipython3",
   "version": "3.9.7"
  }
 },
 "nbformat": 4,
 "nbformat_minor": 5
}
