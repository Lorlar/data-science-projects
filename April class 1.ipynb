{
 "cells": [
  {
   "cell_type": "code",
   "execution_count": null,
   "id": "5af4f918",
   "metadata": {},
   "outputs": [],
   "source": [
    "#Python Containers\n",
    "List\n",
    "Tuples\n",
    "Dictionaries\n",
    "Sets\n",
    "\n",
    "Conditional Statements\n",
    "\n",
    "For Loop"
   ]
  },
  {
   "cell_type": "code",
   "execution_count": null,
   "id": "79e5aaba",
   "metadata": {},
   "outputs": [],
   "source": [
    "#List\n",
    "A variable holds reference to one item\n",
    "A variable holds only one item\n",
    "e.g \n",
    "myName='Tifanny'\n",
    "myName= 'Tifany', 'Joseph'  #a tuple"
   ]
  },
  {
   "cell_type": "code",
   "execution_count": null,
   "id": "8c229e13",
   "metadata": {},
   "outputs": [],
   "source": [
    "'''Construct a python container with'James is a teacher in a school and has 10 students in his math class.\n",
    "'Jerry'\n",
    "'Agatha'\n",
    "'Musa\n",
    "'Adama'\n",
    "'Laura'\n",
    "'Yunus'\n",
    "'Samuel'\n",
    "'Hammed'\n",
    "'Chisom'\n",
    "'Trust\n",
    "Math scores: 75,87, 45, 67, 89, 23, 78,56,89\n",
    "Grades: A, B, C, D, E, F\n",
    "\n",
    "'''"
   ]
  },
  {
   "cell_type": "code",
   "execution_count": 2,
   "id": "1b5cb66c",
   "metadata": {},
   "outputs": [],
   "source": [
    "#TASK is organise the \n",
    "#List are a variable type and they are also a object type\n",
    "#A list can take many items\n",
    "List1=[] #an empty list"
   ]
  },
  {
   "cell_type": "code",
   "execution_count": 3,
   "id": "1530b6f1",
   "metadata": {},
   "outputs": [
    {
     "data": {
      "text/plain": [
       "list"
      ]
     },
     "execution_count": 3,
     "metadata": {},
     "output_type": "execute_result"
    }
   ],
   "source": [
    "type(List1)"
   ]
  },
  {
   "cell_type": "code",
   "execution_count": 4,
   "id": "132c428b",
   "metadata": {},
   "outputs": [
    {
     "name": "stdout",
     "output_type": "stream",
     "text": [
      "[]\n"
     ]
    }
   ],
   "source": [
    "print(List1)"
   ]
  },
  {
   "cell_type": "code",
   "execution_count": null,
   "id": "526302ad",
   "metadata": {},
   "outputs": [],
   "source": [
    "Syntax for populating a list\n",
    "nameOfList=[item1, item2, item3, item4.....item_n]"
   ]
  },
  {
   "cell_type": "code",
   "execution_count": 7,
   "id": "abc8eeda",
   "metadata": {},
   "outputs": [
    {
     "name": "stdout",
     "output_type": "stream",
     "text": [
      "['Jerry', 'Agatha', 'Musa', 'Laura', 'Yunus', 'Samuel', 'Hammed', 'Chisom', 'Trust']\n"
     ]
    }
   ],
   "source": [
    "#List of Students in the math class lab.\n",
    "studentList=['Jerry', 'Agatha', 'Musa', 'Laura', 'Yunus', 'Samuel', 'Hammed', 'Chisom', 'Trust']\n",
    "print(studentList)"
   ]
  },
  {
   "cell_type": "code",
   "execution_count": 8,
   "id": "aa9b96af",
   "metadata": {},
   "outputs": [
    {
     "name": "stdout",
     "output_type": "stream",
     "text": [
      "[75, 87, 45, 67, 89, 23, 78, 56, 89]\n"
     ]
    }
   ],
   "source": [
    "mathScores=[75, 87, 45, 67, 89, 23, 78, 56, 89] \n",
    "print(mathScores)"
   ]
  },
  {
   "cell_type": "code",
   "execution_count": null,
   "id": "e9c3b9c5",
   "metadata": {},
   "outputs": [],
   "source": [
    "#Exam grades\n",
    "examGrades=[ A, B, C, D, E, F]"
   ]
  },
  {
   "cell_type": "code",
   "execution_count": 9,
   "id": "3626b11d",
   "metadata": {},
   "outputs": [],
   "source": [
    "studentList=['Jerry', 'Agatha', 'Musa', 'Laura', 'Yunus', 'Samuel', 'Hammed', 'Chisom', 'Trust']\n",
    "mathScores=[75, 87, 45, 67, 89, 23, 78, 56, 89]\n",
    "examGrades=['A', 'B', 'C', 'D', 'E', 'F']"
   ]
  },
  {
   "cell_type": "code",
   "execution_count": null,
   "id": "81bcd01c",
   "metadata": {},
   "outputs": [],
   "source": [
    "#creating a list of List\n",
    "mathClassRes=[studentList, mathScores, examGrades]#nested list or List of List"
   ]
  },
  {
   "cell_type": "code",
   "execution_count": null,
   "id": "6c7c5f4e",
   "metadata": {},
   "outputs": [],
   "source": [
    "'''List are iterable\n",
    "each item in a list is assigned a index position that identifies its location in the list\n",
    "we need this index position to fetch an item in a list or to remove or replace an item\n",
    "Index position starts from zero\n",
    "\n",
    "'''"
   ]
  },
  {
   "cell_type": "code",
   "execution_count": 11,
   "id": "6d1b8424",
   "metadata": {},
   "outputs": [
    {
     "name": "stdout",
     "output_type": "stream",
     "text": [
      "9\n"
     ]
    }
   ],
   "source": [
    "#we can get the length of a list by using the len()\n",
    "numStudents=len(studentList) #assign to a variable to get the number of student in a list\n",
    "print(numStudents)"
   ]
  },
  {
   "cell_type": "code",
   "execution_count": 13,
   "id": "7d7ae151",
   "metadata": {},
   "outputs": [
    {
     "data": {
      "text/plain": [
       "'Jerry'"
      ]
     },
     "execution_count": 13,
     "metadata": {},
     "output_type": "execute_result"
    }
   ],
   "source": [
    "#syntax for finding an item in a list \n",
    "#Listname[Index]\n",
    "studentList[0]"
   ]
  },
  {
   "cell_type": "raw",
   "id": "30f77973",
   "metadata": {},
   "source": [
    "#checking item in index position 7\n",
    "studentList[7]"
   ]
  },
  {
   "cell_type": "code",
   "execution_count": 14,
   "id": "4ba05bbc",
   "metadata": {},
   "outputs": [
    {
     "data": {
      "text/plain": [
       "'Trust'"
      ]
     },
     "execution_count": 14,
     "metadata": {},
     "output_type": "execute_result"
    }
   ],
   "source": [
    "#checking index position from the last item\n",
    "studentList[-1]"
   ]
  },
  {
   "cell_type": "code",
   "execution_count": 15,
   "id": "7ca83881",
   "metadata": {},
   "outputs": [
    {
     "data": {
      "text/plain": [
       "'Chisom'"
      ]
     },
     "execution_count": 15,
     "metadata": {},
     "output_type": "execute_result"
    }
   ],
   "source": [
    "studentList[7]"
   ]
  },
  {
   "cell_type": "code",
   "execution_count": null,
   "id": "f5f19937",
   "metadata": {},
   "outputs": [],
   "source": [
    "#we can a range of item from a list\n",
    "#the syntax is...\n",
    "listName[starting_index:ending_index+1]"
   ]
  },
  {
   "cell_type": "code",
   "execution_count": 17,
   "id": "572defdb",
   "metadata": {},
   "outputs": [
    {
     "data": {
      "text/plain": [
       "['Agatha', 'Musa', 'Laura', 'Yunus', 'Samuel']"
      ]
     },
     "execution_count": 17,
     "metadata": {},
     "output_type": "execute_result"
    }
   ],
   "source": [
    "#lets fetch all the students from Agatha to Yunus in the listtabs\n",
    "studentList[1:6]"
   ]
  },
  {
   "cell_type": "code",
   "execution_count": 21,
   "id": "15ea7083",
   "metadata": {},
   "outputs": [
    {
     "name": "stdout",
     "output_type": "stream",
     "text": [
      "Jerry found at index position:  0\n",
      "Agatha found at index position:  1\n",
      "Musa found at index position:  2\n",
      "Laura found at index position:  3\n",
      "Yunus found at index position:  4\n",
      "Samuel found at index position:  5\n",
      "Hammed found at index position:  6\n",
      "Chisom found at index position:  7\n",
      "Trust found at index position:  8\n"
     ]
    }
   ],
   "source": [
    "for student in studentList:   #you must always start with this statement, its the loop to express\n",
    "     index_pos = studentList.index(student)\n",
    "     print(student, 'found at index position: ', index_pos)"
   ]
  },
  {
   "cell_type": "code",
   "execution_count": null,
   "id": "1546a48b",
   "metadata": {},
   "outputs": [],
   "source": [
    "# the last or maximum index in a list is always the length of the list minus 1 \n",
    "#becos index position starts from zero"
   ]
  },
  {
   "cell_type": "code",
   "execution_count": 22,
   "id": "4173c764",
   "metadata": {},
   "outputs": [],
   "source": [
    "#adding to a list\n",
    "newStudent='Favour'\n",
    "studentList.append(newStudent)\n"
   ]
  },
  {
   "cell_type": "code",
   "execution_count": 23,
   "id": "b506a5db",
   "metadata": {},
   "outputs": [
    {
     "data": {
      "text/plain": [
       "['Jerry',\n",
       " 'Agatha',\n",
       " 'Musa',\n",
       " 'Laura',\n",
       " 'Yunus',\n",
       " 'Samuel',\n",
       " 'Hammed',\n",
       " 'Chisom',\n",
       " 'Trust',\n",
       " 'Favour']"
      ]
     },
     "execution_count": 23,
     "metadata": {},
     "output_type": "execute_result"
    }
   ],
   "source": [
    "studentList"
   ]
  },
  {
   "cell_type": "code",
   "execution_count": 32,
   "id": "8f41eaff",
   "metadata": {},
   "outputs": [
    {
     "data": {
      "text/plain": [
       "['Jerry',\n",
       " 'Stanley',\n",
       " 'Stanley',\n",
       " 'Stanley',\n",
       " 'Agatha',\n",
       " 'Musa',\n",
       " 'Laura',\n",
       " 'Yunus',\n",
       " 'Samuel',\n",
       " 'Hammed',\n",
       " 'Chisom',\n",
       " 'Trust',\n",
       " 'Favour',\n",
       " 'Rafiat',\n",
       " 'Olawale',\n",
       " 'Elizabeth',\n",
       " ['Rafiat', 'Olawale', 'Elizabeth'],\n",
       " ['Rafiat', 'Olawale', 'Elizabeth'],\n",
       " 'Rafiat',\n",
       " 'Olawale',\n",
       " 'Elizabeth',\n",
       " 'Rafiat',\n",
       " 'Olawale',\n",
       " 'Elizabeth']"
      ]
     },
     "execution_count": 32,
     "metadata": {},
     "output_type": "execute_result"
    }
   ],
   "source": [
    "summerStudents=['Rafiat', 'Olawale', 'Elizabeth']\n",
    "#TASK:merge the summerStudents into the student list\n",
    "#Merging sudent list summerStudents\n",
    "studentList.extend(summerStudents)\n",
    "studentList"
   ]
  },
  {
   "cell_type": "code",
   "execution_count": 35,
   "id": "c2ac5358",
   "metadata": {},
   "outputs": [],
   "source": [
    "#to add a name to a specific position in the database, use insert\n",
    "#the syntax is =name of list.insert(index position,'the name')\n",
    "studentList.insert(1, 'Stanley')\n"
   ]
  },
  {
   "cell_type": "code",
   "execution_count": 38,
   "id": "c714bb7b",
   "metadata": {},
   "outputs": [
    {
     "data": {
      "text/plain": [
       "['Jerry',\n",
       " 'Stanley',\n",
       " 'Stanley',\n",
       " 'Stanley',\n",
       " 'Stanley',\n",
       " 'Stanley',\n",
       " 'Stanley',\n",
       " 'Stanley',\n",
       " 'Stanley',\n",
       " 'Agatha',\n",
       " 'Musa',\n",
       " 'Laura',\n",
       " 'Yunus',\n",
       " 'Samuel',\n",
       " 'Hammed',\n",
       " 'Chisom',\n",
       " 'Trust',\n",
       " 'Favour',\n",
       " 'Rafiat',\n",
       " 'Olawale',\n",
       " 'Elizabeth',\n",
       " ['Rafiat', 'Olawale', 'Elizabeth'],\n",
       " ['Rafiat', 'Olawale', 'Elizabeth'],\n",
       " 'Rafiat',\n",
       " 'Olawale',\n",
       " 'Elizabeth',\n",
       " 'Rafiat',\n",
       " 'Olawale',\n",
       " 'Elizabeth',\n",
       " ['Rafiat', 'Olawale', 'Elizabeth']]"
      ]
     },
     "execution_count": 38,
     "metadata": {},
     "output_type": "execute_result"
    }
   ],
   "source": [
    "#to add more names to a list, dont use append bcos, append add the names as a sublist\n",
    "summerStudents=['Rafiat', 'Olawale', 'Elizabeth']\n",
    "#TASK:merge the summerStudents into the student list\n",
    "#Merging sudent list summerStudents\n",
    "studentList.append(summerStudents)\n",
    "studentList"
   ]
  },
  {
   "cell_type": "code",
   "execution_count": 41,
   "id": "b1352638",
   "metadata": {},
   "outputs": [],
   "source": [
    "#to add a name to a specific position in the database, use insert\n",
    "#the syntax is =name of list.insert(index position,'the name')\n",
    "studentList.insert(1,'Stanley')"
   ]
  },
  {
   "cell_type": "code",
   "execution_count": 42,
   "id": "d7c597b6",
   "metadata": {},
   "outputs": [],
   "source": [
    "studentList.insert(1,'Stanley')"
   ]
  },
  {
   "cell_type": "code",
   "execution_count": 43,
   "id": "7134e5a1",
   "metadata": {},
   "outputs": [
    {
     "name": "stdout",
     "output_type": "stream",
     "text": [
      "hello world\n"
     ]
    }
   ],
   "source": [
    "#List can hold several items of different object type\n",
    "myItems=['Football', 345, 'hello world']\n",
    "print(myItems[2])"
   ]
  },
  {
   "cell_type": "code",
   "execution_count": null,
   "id": "2f37ea8f",
   "metadata": {},
   "outputs": [],
   "source": [
    "#Tuples: are like list in nature but the syntax is different, it\n",
    "#Syntax=(item1, item2, item3....item_n)\n",
    "\n",
    "#Tuples are immutable meaning we cant change the content or the size of a tuple after it is created"
   ]
  },
  {
   "cell_type": "code",
   "execution_count": 45,
   "id": "6e022c2e",
   "metadata": {},
   "outputs": [],
   "source": [
    "studentList_t=('Jerry', 'Agatha', 'Musa', 'Laura', 'Yunus', 'Samuel', 'Hammed', 'Chisom', 'Trust')\n",
    "mathScores_t=(75, 87, 45, 67, 89, 23, 78, 56, 89)\n",
    "examGrades_t=('A', 'B', 'C', 'D', 'E', 'F')"
   ]
  },
  {
   "cell_type": "code",
   "execution_count": 46,
   "id": "473d8de6",
   "metadata": {},
   "outputs": [
    {
     "data": {
      "text/plain": [
       "tuple"
      ]
     },
     "execution_count": 46,
     "metadata": {},
     "output_type": "execute_result"
    }
   ],
   "source": [
    "type(examGrades_t)"
   ]
  },
  {
   "cell_type": "code",
   "execution_count": 47,
   "id": "f0767211",
   "metadata": {},
   "outputs": [
    {
     "data": {
      "text/plain": [
       "0"
      ]
     },
     "execution_count": 47,
     "metadata": {},
     "output_type": "execute_result"
    }
   ],
   "source": [
    "#tRY TO ADD ITEMS TO A TUPLE\n",
    "studentList_t.index('Jerry')"
   ]
  },
  {
   "cell_type": "code",
   "execution_count": 49,
   "id": "4d0217ac",
   "metadata": {},
   "outputs": [
    {
     "name": "stdout",
     "output_type": "stream",
     "text": [
      "('Musa', 'Laura', 'Yunus', 'Samuel', 'Hammed', 'Chisom')\n"
     ]
    }
   ],
   "source": [
    "print(studentList_t[2:8])"
   ]
  },
  {
   "cell_type": "code",
   "execution_count": null,
   "id": "0a9bdb1c",
   "metadata": {},
   "outputs": [],
   "source": [
    "#Dictionaries\n",
    "'''Construct a python container with'James is a teacher in a school and has 10 students in his math class.\n",
    "'Jerry'\n",
    "'Agatha'\n",
    "'Musa\n",
    "'Adama'\n",
    "'Laura'\n",
    "'Yunus'\n",
    "'Samuel'\n",
    "'Hammed'\n",
    "'Chisom'\n",
    "'Trust\n",
    "Math scores: 75,87, 45, 67, 89, 23, 78,56,89\n",
    "Grades: A, B, C, D, E, F\n",
    "\n",
    "'''"
   ]
  },
  {
   "cell_type": "code",
   "execution_count": null,
   "id": "b4117e2f",
   "metadata": {},
   "outputs": [],
   "source": [
    "studentList=['Jerry', 'Agatha', 'Musa', 'Laura', 'Yunus', 'Samuel', 'Hammed', 'Chisom', 'Trust']\n",
    "mathScores=[75, 87, 45, 67, 89, 23, 78, 56, 89]\n",
    "examGrades=['A', 'B', 'C', 'D', 'E', 'F']"
   ]
  },
  {
   "cell_type": "code",
   "execution_count": 55,
   "id": "ccee6f38",
   "metadata": {},
   "outputs": [],
   "source": [
    "#Dictionaries are objects that hold Key:Values pairs in the container.\n",
    "#Syntax= DictionaryName{Key1:Value1, Key2:Value2, ...Keyn:value}Ma\n",
    "#yntax\n",
    "#To  declare an empty dictionary\n",
    "dictionaryName=  {}\n",
    "\n",
    "#Rules:\n",
    "      # No duplicate \n",
    "        "
   ]
  },
  {
   "cell_type": "code",
   "execution_count": 56,
   "id": "44446917",
   "metadata": {},
   "outputs": [
    {
     "data": {
      "text/plain": [
       "dict"
      ]
     },
     "execution_count": 56,
     "metadata": {},
     "output_type": "execute_result"
    }
   ],
   "source": [
    "type(dictionaryName)"
   ]
  },
  {
   "cell_type": "code",
   "execution_count": 59,
   "id": "1d8d028a",
   "metadata": {},
   "outputs": [],
   "source": [
    "mathStudentsDict = {'Jerry':75,'Agatha':87,'Musa':96,'Laura':56,'Yunus':43,'Samuel':85}"
   ]
  },
  {
   "cell_type": "code",
   "execution_count": null,
   "id": "48a10282",
   "metadata": {},
   "outputs": [],
   "source": [
    "#To fetch a value in a dictionary use\n",
    "dictName[Key]"
   ]
  },
  {
   "cell_type": "code",
   "execution_count": 62,
   "id": "82155d79",
   "metadata": {},
   "outputs": [
    {
     "data": {
      "text/plain": [
       "56"
      ]
     },
     "execution_count": 62,
     "metadata": {},
     "output_type": "execute_result"
    }
   ],
   "source": [
    "#get exam scores for Musa and Laura\n",
    "lauraScore=mathStudentsDict['Laura']\n",
    "lauraScore"
   ]
  },
  {
   "cell_type": "code",
   "execution_count": 64,
   "id": "68be5194",
   "metadata": {},
   "outputs": [
    {
     "data": {
      "text/plain": [
       "dict_keys(['Jerry', 'Agatha', 'Musa', 'Laura', 'Yunus', 'Samuel'])"
      ]
     },
     "execution_count": 64,
     "metadata": {},
     "output_type": "execute_result"
    }
   ],
   "source": [
    "#Get all the keys as a list\n",
    "mathStudentsDict.keys()"
   ]
  },
  {
   "cell_type": "code",
   "execution_count": 66,
   "id": "00709259",
   "metadata": {},
   "outputs": [
    {
     "data": {
      "text/plain": [
       "['Jerry', 'Agatha', 'Musa', 'Laura', 'Yunus', 'Samuel']"
      ]
     },
     "execution_count": 66,
     "metadata": {},
     "output_type": "execute_result"
    }
   ],
   "source": [
    "#convert to list\n",
    "list(mathStudentsDict.keys())"
   ]
  },
  {
   "cell_type": "code",
   "execution_count": 68,
   "id": "d96ea581",
   "metadata": {},
   "outputs": [
    {
     "data": {
      "text/plain": [
       "dict_values([75, 87, 96, 56, 43, 85])"
      ]
     },
     "execution_count": 68,
     "metadata": {},
     "output_type": "execute_result"
    }
   ],
   "source": [
    "#getting exam scores from the list i.e, dictionary values\n",
    "mathStudentsDict.values()"
   ]
  },
  {
   "cell_type": "code",
   "execution_count": 69,
   "id": "e849442a",
   "metadata": {},
   "outputs": [
    {
     "data": {
      "text/plain": [
       "[75, 87, 96, 56, 43, 85]"
      ]
     },
     "execution_count": 69,
     "metadata": {},
     "output_type": "execute_result"
    }
   ],
   "source": [
    "list(mathStudentsDict.values())"
   ]
  },
  {
   "cell_type": "code",
   "execution_count": 70,
   "id": "97da981e",
   "metadata": {},
   "outputs": [
    {
     "name": "stdout",
     "output_type": "stream",
     "text": [
      "Jerry 75\n",
      "Agatha 87\n",
      "Musa 96\n",
      "Laura 56\n",
      "Yunus 43\n",
      "Samuel 85\n"
     ]
    }
   ],
   "source": [
    "for student, score in mathStudentsDict.items():\n",
    "    print(student, score)"
   ]
  },
  {
   "cell_type": "code",
   "execution_count": 82,
   "id": "292ac6e9",
   "metadata": {},
   "outputs": [
    {
     "name": "stdout",
     "output_type": "stream",
     "text": [
      "Jerry 75\n",
      "Agatha 87\n",
      "Musa 96\n",
      "Laura 56\n",
      "Yunus 43\n",
      "Samuel 85\n"
     ]
    }
   ],
   "source": [
    "#examGrades\n",
    "studentReport=[]\n",
    "for student, score in mathStudentsDict.items():\n",
    "    print(student, score)\n",
    "    if score >80:\n",
    "        grade = examGrades[0]\n",
    "        studentReport.append([student, score, grade])\n",
    "    elif score>70 and score <80:\n",
    "        grade=examGrades[1]\n",
    "        studentReport.append([student, score, grade])\n",
    "            \n",
    "    elif score>60 and score <70:\n",
    "        grade=examGrades[2]\n",
    "        studentReport.append([student, score, grade])\n",
    "            \n",
    "    elif score>50 and score <60:\n",
    "            grade=examGrades[3]\n",
    "            studentReport.append([student, score, grade])\n",
    "            \n",
    "        \n",
    "    else:\n",
    "            grade = examGrades[-1]\n",
    "            studentReport.append([student, score, grade])\n",
    "            "
   ]
  },
  {
   "cell_type": "code",
   "execution_count": 83,
   "id": "e1004bdd",
   "metadata": {},
   "outputs": [
    {
     "data": {
      "text/plain": [
       "[['Jerry', 75, 'B'],\n",
       " ['Agatha', 87, 'A'],\n",
       " ['Musa', 96, 'A'],\n",
       " ['Laura', 56, 'D'],\n",
       " ['Yunus', 43, 'F'],\n",
       " ['Samuel', 85, 'A']]"
      ]
     },
     "execution_count": 83,
     "metadata": {},
     "output_type": "execute_result"
    }
   ],
   "source": [
    "studentReport"
   ]
  },
  {
   "cell_type": "code",
   "execution_count": 84,
   "id": "253b048b",
   "metadata": {},
   "outputs": [
    {
     "name": "stdout",
     "output_type": "stream",
     "text": [
      "  Student Name  Score Grade\n",
      "0        Jerry     75     B\n",
      "1       Agatha     87     A\n",
      "2         Musa     96     A\n",
      "3        Laura     56     D\n",
      "4        Yunus     43     F\n",
      "5       Samuel     85     A\n"
     ]
    }
   ],
   "source": [
    "import pandas as pd\n",
    "\n",
    "print(pd.DataFrame(studentReport, columns=['Student Name', 'Score', 'Grade']))"
   ]
  },
  {
   "cell_type": "code",
   "execution_count": 4,
   "id": "75785ca9",
   "metadata": {},
   "outputs": [
    {
     "name": "stdout",
     "output_type": "stream",
     "text": [
      "entering container for the  1 st.time to grab an item\n",
      "in this run, I grabbed Jerry\n",
      "Hello Jerry\n",
      "entering container for the  2 st.time to grab an item\n",
      "in this run, I grabbed Agatha\n",
      "Hello Agatha\n",
      "entering container for the  3 st.time to grab an item\n",
      "in this run, I grabbed Musa\n",
      "Hello Musa\n",
      "entering container for the  4 st.time to grab an item\n",
      "in this run, I grabbed Laura\n",
      "Hello Laura\n",
      "entering container for the  5 st.time to grab an item\n",
      "in this run, I grabbed Yunus\n",
      "Hello Yunus\n",
      "entering container for the  6 st.time to grab an item\n",
      "in this run, I grabbed Samuel\n",
      "Hello Samuel\n",
      "entering container for the  7 st.time to grab an item\n",
      "in this run, I grabbed Hammed\n",
      "Hello Hammed\n",
      "entering container for the  8 st.time to grab an item\n",
      "in this run, I grabbed Chisom\n",
      "Hello Chisom\n",
      "entering container for the  9 st.time to grab an item\n",
      "in this run, I grabbed Trust\n",
      "Hello Trust\n"
     ]
    }
   ],
   "source": [
    "studentList=['Jerry', 'Agatha', 'Musa', 'Laura', 'Yunus', 'Samuel', 'Hammed', 'Chisom', 'Trust']\n",
    "counter=1\n",
    "#for Loops allows us to gain access to each items in a container one at a time. \n",
    "#once we gain access to an item it allows to have access to \n",
    "#so we need to creat a dynamic variale to hold item temporarily\n",
    "#syntax is, write the item: then next line is what you want to execute and it must be indented\n",
    "for stan in studentList:\n",
    "    print(\"entering container for the \", counter, 'st.time to grab an item')\n",
    "    print(\"in this run, I grabbed\", stan)\n",
    "    print ('Hello', stan)\n",
    "    counter = counter + 1\n",
    "#anything not indented is not recognised by for loop\n",
    "#for loop is used to go through a dictionary"
   ]
  },
  {
   "cell_type": "code",
   "execution_count": 7,
   "id": "52ecc359",
   "metadata": {},
   "outputs": [],
   "source": [
    "#sets\n",
    "#this are a type of container, they hold item, they behave like a dictionary\n",
    "mySet=set()"
   ]
  },
  {
   "cell_type": "code",
   "execution_count": 8,
   "id": "29780252",
   "metadata": {},
   "outputs": [
    {
     "data": {
      "text/plain": [
       "set"
      ]
     },
     "execution_count": 8,
     "metadata": {},
     "output_type": "execute_result"
    }
   ],
   "source": [
    "type(mySet)"
   ]
  },
  {
   "cell_type": "code",
   "execution_count": 9,
   "id": "144e8a4c",
   "metadata": {},
   "outputs": [],
   "source": [
    "#convert list to a set\n",
    "newList= [23, 44, 55, 66]\n",
    "set1= set(newList)"
   ]
  },
  {
   "cell_type": "code",
   "execution_count": 10,
   "id": "7fc95a5b",
   "metadata": {},
   "outputs": [
    {
     "data": {
      "text/plain": [
       "{23, 44, 55, 66}"
      ]
     },
     "execution_count": 10,
     "metadata": {},
     "output_type": "execute_result"
    }
   ],
   "source": [
    "set1"
   ]
  },
  {
   "cell_type": "code",
   "execution_count": 11,
   "id": "a3f65068",
   "metadata": {},
   "outputs": [],
   "source": [
    "#a set cant hold duplicate value eg,. (10, 15, 34, 10) has duplicate value\n",
    "list2=(10, 15, 34, 10)"
   ]
  },
  {
   "cell_type": "code",
   "execution_count": 13,
   "id": "f1d22b66",
   "metadata": {},
   "outputs": [
    {
     "data": {
      "text/plain": [
       "{10, 15, 34}"
      ]
     },
     "execution_count": 13,
     "metadata": {},
     "output_type": "execute_result"
    }
   ],
   "source": [
    "set(list2)"
   ]
  },
  {
   "cell_type": "code",
   "execution_count": null,
   "id": "9d07bb5e",
   "metadata": {},
   "outputs": [],
   "source": [
    "#difference between list and set\n",
    "#set wil not allow  duplicate value\n",
    "#no index position\n",
    "#use set to obtain unique items from "
   ]
  }
 ],
 "metadata": {
  "kernelspec": {
   "display_name": "Python 3 (ipykernel)",
   "language": "python",
   "name": "python3"
  },
  "language_info": {
   "codemirror_mode": {
    "name": "ipython",
    "version": 3
   },
   "file_extension": ".py",
   "mimetype": "text/x-python",
   "name": "python",
   "nbconvert_exporter": "python",
   "pygments_lexer": "ipython3",
   "version": "3.9.7"
  }
 },
 "nbformat": 4,
 "nbformat_minor": 5
}
