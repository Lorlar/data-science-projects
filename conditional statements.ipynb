{
 "cells": [
  {
   "cell_type": "code",
   "execution_count": 1,
   "id": "7bfd30d0",
   "metadata": {},
   "outputs": [],
   "source": [
    "#Python Expression\n",
    "x=5\n",
    "y=10\n",
    "z=x*y"
   ]
  },
  {
   "cell_type": "code",
   "execution_count": 2,
   "id": "05f88373",
   "metadata": {},
   "outputs": [
    {
     "data": {
      "text/plain": [
       "22.5"
      ]
     },
     "execution_count": 2,
     "metadata": {},
     "output_type": "execute_result"
    }
   ],
   "source": [
    "x*y*0.45  #expressions resove into a single output: nuber, bolean"
   ]
  },
  {
   "cell_type": "code",
   "execution_count": null,
   "id": "17153035",
   "metadata": {},
   "outputs": [],
   "source": [
    "'''James is 34 years old and 5 years older than Ade. Ade is 6 years younger than Jerry\n",
    "Jerryy makes income at he rate of 2:1 when compared to Ada'''"
   ]
  },
  {
   "cell_type": "code",
   "execution_count": 3,
   "id": "1f81fcde",
   "metadata": {},
   "outputs": [
    {
     "data": {
      "text/plain": [
       "29"
      ]
     },
     "execution_count": 3,
     "metadata": {},
     "output_type": "execute_result"
    }
   ],
   "source": [
    "jamesAge=34\n",
    "adaAge=jamesAge-5\n",
    "adaAge"
   ]
  },
  {
   "cell_type": "code",
   "execution_count": null,
   "id": "38391c14",
   "metadata": {},
   "outputs": [],
   "source": [
    "#Assume that Ada's age is the difference \n",
    "#between James age and Brown's age and James's age is 45% that of Brown. brown is 75 yrs old"
   ]
  },
  {
   "cell_type": "code",
   "execution_count": 7,
   "id": "7c44991c",
   "metadata": {},
   "outputs": [
    {
     "data": {
      "text/plain": [
       "33.75"
      ]
     },
     "execution_count": 7,
     "metadata": {},
     "output_type": "execute_result"
    }
   ],
   "source": [
    "brownAge=75\n",
    "ageFactor=0.45\n",
    "#adaAge=\n",
    "jamesAge=brownAge*ageFactor\n",
    "jamesAge"
   ]
  },
  {
   "cell_type": "code",
   "execution_count": 8,
   "id": "9b6279aa",
   "metadata": {},
   "outputs": [
    {
     "data": {
      "text/plain": [
       "41.25"
      ]
     },
     "execution_count": 8,
     "metadata": {},
     "output_type": "execute_result"
    }
   ],
   "source": [
    "adaAge=brownAge-(brownAge*ageFactor)\n",
    "adaAge"
   ]
  },
  {
   "cell_type": "code",
   "execution_count": null,
   "id": "492c2219",
   "metadata": {},
   "outputs": [],
   "source": [
    "#conditional expression\n",
    "\n",
    "\n",
    "#is Ada older than James\n",
    "#sometimes, we use comparison operators which are:\n",
    "'''\n",
    "<\n",
    ">\n",
    ">=\n",
    "<=\n",
    "<>\n",
    "and\n",
    "or\n",
    "'''\n",
    "#use if statement to creats conditional expression\n",
    "\n",
    "#If, the if statement is followed by an (expression):\n",
    "#else:\n",
    "#    expression to execute if true\n",
    "    "
   ]
  },
  {
   "cell_type": "code",
   "execution_count": null,
   "id": "a7e3e558",
   "metadata": {},
   "outputs": [],
   "source": [
    "#is Ada older than James\n",
    "If adaAge>jamesAge"
   ]
  },
  {
   "cell_type": "code",
   "execution_count": 9,
   "id": "c69c481c",
   "metadata": {},
   "outputs": [
    {
     "data": {
      "text/plain": [
       "True"
      ]
     },
     "execution_count": 9,
     "metadata": {},
     "output_type": "execute_result"
    }
   ],
   "source": [
    "adaAge>jamesAge"
   ]
  },
  {
   "cell_type": "code",
   "execution_count": 10,
   "id": "d3f19bb9",
   "metadata": {},
   "outputs": [
    {
     "data": {
      "text/plain": [
       "False"
      ]
     },
     "execution_count": 10,
     "metadata": {},
     "output_type": "execute_result"
    }
   ],
   "source": [
    "adaAge<jamesAge"
   ]
  },
  {
   "cell_type": "code",
   "execution_count": 15,
   "id": "2f6cdab5",
   "metadata": {},
   "outputs": [
    {
     "data": {
      "text/plain": [
       "True"
      ]
     },
     "execution_count": 15,
     "metadata": {},
     "output_type": "execute_result"
    }
   ],
   "source": [
    "adaAge==jamesAge"
   ]
  },
  {
   "cell_type": "code",
   "execution_count": null,
   "id": "41baad3a",
   "metadata": {},
   "outputs": [],
   "source": [
    "#write our IF stateme\n",
    "#Is Ada older than James\n"
   ]
  }
 ],
 "metadata": {
  "kernelspec": {
   "display_name": "Python 3 (ipykernel)",
   "language": "python",
   "name": "python3"
  },
  "language_info": {
   "codemirror_mode": {
    "name": "ipython",
    "version": 3
   },
   "file_extension": ".py",
   "mimetype": "text/x-python",
   "name": "python",
   "nbconvert_exporter": "python",
   "pygments_lexer": "ipython3",
   "version": "3.9.7"
  }
 },
 "nbformat": 4,
 "nbformat_minor": 5
}
