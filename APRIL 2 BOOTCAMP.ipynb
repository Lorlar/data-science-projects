{
 "cells": [
  {
   "cell_type": "code",
   "execution_count": null,
   "id": "9e208ee8",
   "metadata": {},
   "outputs": [],
   "source": [
    "#Python containers, they allow us to hold data in multiple items eg, name of students in a class\n",
    "#list\n",
    "#Tubles\n",
    "#Dictionary\n",
    "#Sets\n",
    "#conditional Statements\n",
    "For loop"
   ]
  },
  {
   "cell_type": "code",
   "execution_count": null,
   "id": "1658c3b6",
   "metadata": {},
   "outputs": [],
   "source": [
    "myName='Tope' #its a variable, its holds reference to one item\n",
    "myName='Tope', 'Bisi', 'Donald' #a tuple"
   ]
  },
  {
   "cell_type": "code",
   "execution_count": null,
   "id": "6caa22bd",
   "metadata": {},
   "outputs": [],
   "source": [
    "'''James is a teacher in a school and has 10 students in his maths class.\n",
    "use the following information about his class to construct a python container:/\n",
    "    \n",
    "\"Jerry\"\n",
    "'Agatha'\n",
    "'Adama'\n",
    "'Yunus'\n",
    "'Samuel'\n",
    "'Hammed'\n",
    "'Peace'\n",
    "'Eric'\n",
    "'Lois'\n",
    "'Lola'\n",
    "\"seun\"\n",
    "Math scores: 75, 67, 96, 54, 76, 95, 87, 100, 70, 85\n",
    "Grades:A, B, C, D, E, F\n",
    "\n",
    "'''"
   ]
  },
  {
   "cell_type": "code",
   "execution_count": 5,
   "id": "442a9ad7",
   "metadata": {},
   "outputs": [],
   "source": [
    "List1 = [] #emptylist"
   ]
  },
  {
   "cell_type": "code",
   "execution_count": 6,
   "id": "002d8057",
   "metadata": {},
   "outputs": [
    {
     "data": {
      "text/plain": [
       "list"
      ]
     },
     "execution_count": 6,
     "metadata": {},
     "output_type": "execute_result"
    }
   ],
   "source": [
    "type(List1)"
   ]
  },
  {
   "cell_type": "code",
   "execution_count": 7,
   "id": "b85a64e9",
   "metadata": {},
   "outputs": [
    {
     "name": "stdout",
     "output_type": "stream",
     "text": [
      "[]\n"
     ]
    }
   ],
   "source": [
    "print(List1)"
   ]
  },
  {
   "cell_type": "code",
   "execution_count": null,
   "id": "757fd803",
   "metadata": {},
   "outputs": [],
   "source": [
    "#syntax for populating a list\n",
    "#nameOfList = [item1, item2, item3,......item_n]\n",
    "studentName= ['Jerry', 'Agatha', 'Adama', 'Yunus', 'Samuel', 'Hammed', 'Peace', 'Eric', 'Lois', 'Lola', 'seun']"
   ]
  },
  {
   "cell_type": "code",
   "execution_count": 9,
   "id": "082e523d",
   "metadata": {},
   "outputs": [
    {
     "name": "stdout",
     "output_type": "stream",
     "text": [
      "['Jerry', 'Agatha', 'Adama', 'Yunus', 'Samuel', 'Hammed', 'Peace', 'Eric', 'Lois', 'Lola']\n"
     ]
    }
   ],
   "source": [
    "#List of students in maths class\n",
    "studentList= ['Jerry', 'Agatha', 'Adama', 'Yunus', 'Samuel', 'Hammed', 'Peace', 'Eric', 'Lois', 'Lola']\n",
    "print(studentList)"
   ]
  },
  {
   "cell_type": "code",
   "execution_count": 10,
   "id": "ddb1d8c2",
   "metadata": {},
   "outputs": [],
   "source": [
    "mathScores=[75, 67, 96, 54, 76, 95, 87, 100, 70, 85]#Mathscore of the student"
   ]
  },
  {
   "cell_type": "code",
   "execution_count": null,
   "id": "2a73af07",
   "metadata": {},
   "outputs": [],
   "source": [
    "#Exam Grades\n",
    "examGrades=['A', 'B', 'C', 'D', 'E', 'F']"
   ]
  },
  {
   "cell_type": "code",
   "execution_count": 12,
   "id": "deb79a03",
   "metadata": {},
   "outputs": [],
   "source": [
    "studentList= ['Jerry', 'Agatha', 'Adama', 'Yunus', 'Samuel', 'Hammed', 'Peace', 'Eric', 'Lois', 'Lola']\n",
    "mathScores=[75, 67, 96, 54, 76, 95, 87, 100, 70, 85]\n",
    "examGrades=['A', 'B', 'C', 'D', 'E', 'F']"
   ]
  },
  {
   "cell_type": "code",
   "execution_count": null,
   "id": "1fd6a28f",
   "metadata": {},
   "outputs": [],
   "source": [
    "#Creating a List of Lists\n",
    "#This List holds all the information about student in the maths class\n",
    "mathClassRes= [studentList,mathScores,examGrades] #nested list or list of list\n",
    "print(mathClassRes)"
   ]
  },
  {
   "cell_type": "code",
   "execution_count": null,
   "id": "7460f6f3",
   "metadata": {},
   "outputs": [],
   "source": [
    "#lists are iterable\n",
    "#each item on the list is assigned an index possition that identifies its location in the list\n",
    "#we need this idex position to fetch an item in a list or to remove or replace d item\n",
    "#idex position start from zero"
   ]
  },
  {
   "cell_type": "code",
   "execution_count": 14,
   "id": "63f3eb84",
   "metadata": {},
   "outputs": [
    {
     "name": "stdout",
     "output_type": "stream",
     "text": [
      "10\n"
     ]
    }
   ],
   "source": [
    "#we can get length of a list by using len()\n",
    "numStudents = len(studentList) #count the number of student in a list \n",
    "print(numStudents)\n"
   ]
  },
  {
   "cell_type": "code",
   "execution_count": 15,
   "id": "98e5ed30",
   "metadata": {},
   "outputs": [
    {
     "data": {
      "text/plain": [
       "'Eric'"
      ]
     },
     "execution_count": 15,
     "metadata": {},
     "output_type": "execute_result"
    }
   ],
   "source": [
    "#checking item in index position 7\n",
    "studentList[7]"
   ]
  },
  {
   "cell_type": "code",
   "execution_count": 18,
   "id": "9b3d9a81",
   "metadata": {},
   "outputs": [
    {
     "data": {
      "text/plain": [
       "'Eric'"
      ]
     },
     "execution_count": 18,
     "metadata": {},
     "output_type": "execute_result"
    }
   ],
   "source": [
    "#checing from item in the list\n",
    "studentList[-3]"
   ]
  },
  {
   "cell_type": "code",
   "execution_count": 19,
   "id": "d9cf9e5c",
   "metadata": {},
   "outputs": [
    {
     "data": {
      "text/plain": [
       "['Eric', 'Lois', 'Lola']"
      ]
     },
     "execution_count": 19,
     "metadata": {},
     "output_type": "execute_result"
    }
   ],
   "source": [
    "studentList[7:10]"
   ]
  },
  {
   "cell_type": "code",
   "execution_count": 20,
   "id": "e6e8b824",
   "metadata": {},
   "outputs": [
    {
     "data": {
      "text/plain": [
       "['Adama', 'Yunus', 'Samuel']"
      ]
     },
     "execution_count": 20,
     "metadata": {},
     "output_type": "execute_result"
    }
   ],
   "source": [
    "studentList[2:5]"
   ]
  },
  {
   "cell_type": "code",
   "execution_count": 23,
   "id": "4598acc6",
   "metadata": {},
   "outputs": [
    {
     "data": {
      "text/plain": [
       "['Jerry', 'Agatha', 'Adama', 'Yunus', 'Samuel', 'Hammed']"
      ]
     },
     "execution_count": 23,
     "metadata": {},
     "output_type": "execute_result"
    }
   ],
   "source": [
    "#lets fetch all the student list\n",
    "studentList[0:6]"
   ]
  },
  {
   "cell_type": "code",
   "execution_count": 33,
   "id": "4ccd9148",
   "metadata": {},
   "outputs": [
    {
     "name": "stdout",
     "output_type": "stream",
     "text": [
      "Jerry found at index position:  0\n",
      "Agatha found at index position:  1\n",
      "Adama found at index position:  2\n",
      "Yunus found at index position:  3\n",
      "Samuel found at index position:  4\n",
      "Hammed found at index position:  5\n",
      "Peace found at index position:  6\n",
      "Eric found at index position:  7\n",
      "Lois found at index position:  8\n",
      "Lola found at index position:  9\n"
     ]
    }
   ],
   "source": [
    "for student in studentList:\n",
    "    index_pos = studentList.index(student)\n",
    "    print(student, 'found at index position: ', index_pos)#you must indent secondline and print line"
   ]
  },
  {
   "cell_type": "code",
   "execution_count": 34,
   "id": "9145537d",
   "metadata": {},
   "outputs": [],
   "source": [
    "#adding to a list\n",
    "newStudent= 'Favour'\n",
    "studentList.append(newStudent)#for adding new student to a list"
   ]
  },
  {
   "cell_type": "code",
   "execution_count": 35,
   "id": "85591401",
   "metadata": {},
   "outputs": [
    {
     "data": {
      "text/plain": [
       "['Jerry',\n",
       " 'Agatha',\n",
       " 'Adama',\n",
       " 'Yunus',\n",
       " 'Samuel',\n",
       " 'Hammed',\n",
       " 'Peace',\n",
       " 'Eric',\n",
       " 'Lois',\n",
       " 'Lola',\n",
       " 'Favour']"
      ]
     },
     "execution_count": 35,
     "metadata": {},
     "output_type": "execute_result"
    }
   ],
   "source": [
    "studentList"
   ]
  },
  {
   "cell_type": "code",
   "execution_count": 36,
   "id": "fa85360a",
   "metadata": {},
   "outputs": [
    {
     "data": {
      "text/plain": [
       "['Jerry',\n",
       " 'Agatha',\n",
       " 'Adama',\n",
       " 'Yunus',\n",
       " 'Samuel',\n",
       " 'Hammed',\n",
       " 'Peace',\n",
       " 'Eric',\n",
       " 'Lois',\n",
       " 'Lola',\n",
       " 'Favour',\n",
       " 'Gbemi',\n",
       " 'Olawale',\n",
       " 'Elizabeth']"
      ]
     },
     "execution_count": 36,
     "metadata": {},
     "output_type": "execute_result"
    }
   ],
   "source": [
    "summerStudents=('Gbemi', 'Olawale', 'Elizabeth')\n",
    "#Task, merge the summer students into the studentList\n",
    "#merging the student with the summer student\n",
    "studentList.extend(summerStudents)\n",
    "studentList\n"
   ]
  },
  {
   "cell_type": "code",
   "execution_count": null,
   "id": "213b2c0b",
   "metadata": {},
   "outputs": [],
   "source": []
  }
 ],
 "metadata": {
  "kernelspec": {
   "display_name": "Python 3 (ipykernel)",
   "language": "python",
   "name": "python3"
  },
  "language_info": {
   "codemirror_mode": {
    "name": "ipython",
    "version": 3
   },
   "file_extension": ".py",
   "mimetype": "text/x-python",
   "name": "python",
   "nbconvert_exporter": "python",
   "pygments_lexer": "ipython3",
   "version": "3.9.7"
  }
 },
 "nbformat": 4,
 "nbformat_minor": 5
}
