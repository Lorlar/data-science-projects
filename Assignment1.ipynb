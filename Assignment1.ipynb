{
 "cells": [
  {
   "cell_type": "code",
   "execution_count": null,
   "id": "a193c626",
   "metadata": {},
   "outputs": [],
   "source": [
    "'''  James is embarking on a journey with the following items in the trunk of his car;\n",
    "\n",
    "a.      14 packs of bottled water\n",
    "b.     2 packed suite cases\n",
    "c.      One golf kit with 24 golf clubs\n",
    "Task:Create variables for each of these items\n",
    "\n",
    "'''"
   ]
  },
  {
   "cell_type": "code",
   "execution_count": 5,
   "id": "6095ea23",
   "metadata": {},
   "outputs": [
    {
     "name": "stdout",
     "output_type": "stream",
     "text": [
      "Name of tourist is James\n"
     ]
    }
   ],
   "source": [
    "#variables\n",
    "touristName='James'\n",
    "bottleWater=14\n",
    "suitCases=2\n",
    "golfKit=1\n",
    "golfClubs=24\n",
    "print('Name of tourist is ' + touristName)"
   ]
  },
  {
   "cell_type": "code",
   "execution_count": null,
   "id": "683e00cc",
   "metadata": {},
   "outputs": [],
   "source": [
    "'''For each of the following code block, show what is wrong with the code:\n",
    "a.      vehicleSpeed  =  35kph\n",
    "b.     studentWeight = 75 kg\n",
    "c.      happiness  Rating = ‘Very Happy’\n",
    "d.     count, subcount = 45\n",
    "'''"
   ]
  },
  {
   "cell_type": "code",
   "execution_count": null,
   "id": "6dc9d37d",
   "metadata": {},
   "outputs": [],
   "source": [
    "a. the value 35kph is not a legal syntax. its a string, it should have quotation mark''\n",
    "b. the expression 75 kg is not a legal syntax because the quotation mark is not there. not allowed in python\n",
    "c. a variable name can not have space between it. Its not a legal syntax\n",
    "d. variable name can't have space between it or comma in it. invalid syntax"
   ]
  },
  {
   "cell_type": "code",
   "execution_count": null,
   "id": "76ca2fff",
   "metadata": {},
   "outputs": [],
   "source": [
    "You are given the following information about  7 students in a class;\n",
    "\n",
    "a.      Rowland Brooks: Age 30, marital status: Single, Number of children 4\n",
    "b.     Tambe Bwali: Age 27, marital status: Married, Number of children 6\n",
    "c.      Bitrus Yagi: Age 40, marital status: Married, Number of children 2\n",
    "d.     Kofi Kwame: Age 51, marital status: Single, Number of children 7\n",
    "e.      Butuwase Nglesi: Age 38, marital status: Single, Number of children 0\n",
    "f.       Peter Okafor: Age 33, marital status: Married, Number of children 3\n",
    "g.      Adebo Babalaki: Age 51, marital status: Divorced, Number of children 9"
   ]
  },
  {
   "cell_type": "code",
   "execution_count": 9,
   "id": "1f5cec58",
   "metadata": {},
   "outputs": [
    {
     "name": "stdout",
     "output_type": "stream",
     "text": [
      "[]\n"
     ]
    }
   ],
   "source": [
    "List1 = [] #emptylist\n",
    "print(List1)"
   ]
  },
  {
   "cell_type": "code",
   "execution_count": null,
   "id": "1fdb6ad6",
   "metadata": {},
   "outputs": [],
   "source": [
    "#syntax for populating a list\n",
    "#nameOfList = [item1, item2, item3,......item_n]\n",
    "studentName=['Rowland Brooks', 'Tambe Bwali', 'Bitrus Yagi', 'Kofi Kwame', 'Butuwase Nglesi', 'Peter Okafor', 'Adebo Babalaki']\n"
   ]
  },
  {
   "cell_type": "code",
   "execution_count": 10,
   "id": "757173d5",
   "metadata": {},
   "outputs": [
    {
     "name": "stdout",
     "output_type": "stream",
     "text": [
      "['Rowland Brooks', 'Tambe Bwali', 'Bitrus Yagi', 'Kofi Kwame', 'Butuwase Nglesi', 'Peter Okafor', 'Adebo Babalaki']\n"
     ]
    }
   ],
   "source": [
    "studentList=['Rowland Brooks', 'Tambe Bwali', 'Bitrus Yagi', 'Kofi Kwame', 'Butuwase Nglesi', 'Peter Okafor', 'Adebo Babalaki']\n",
    "print(studentList)"
   ]
  },
  {
   "cell_type": "code",
   "execution_count": 11,
   "id": "fe55fa91",
   "metadata": {},
   "outputs": [
    {
     "name": "stdout",
     "output_type": "stream",
     "text": [
      "[30, 27, 40, 51, 38, 33, 51]\n"
     ]
    }
   ],
   "source": [
    "studentAge=[30, 27, 40, 51, 38, 33, 51]\n",
    "print(studentAge)"
   ]
  },
  {
   "cell_type": "code",
   "execution_count": null,
   "id": "09d14f68",
   "metadata": {},
   "outputs": [],
   "source": [
    "maritalStatus=['single', 'married']"
   ]
  },
  {
   "cell_type": "code",
   "execution_count": null,
   "id": "eebaf9ee",
   "metadata": {},
   "outputs": [],
   "source": [
    "NumChild=[4, 6, 2, 7, 0, 3, 9]"
   ]
  },
  {
   "cell_type": "code",
   "execution_count": null,
   "id": "837191a4",
   "metadata": {},
   "outputs": [],
   "source": [
    "studentList=['Rowland Brooks', 'Tambe Bwali', 'Bitrus Yagi', 'Kofi Kwame', 'Butuwase Nglesi', 'Peter Okafor', 'Adebo Babalaki']\n",
    "studentAge=[30, 27, 40, 51, 38, 33, 51]\n",
    "maritalStatus=['single', 'married']\n",
    "NumChild=[4, 6, 2, 7, 0, 3, 9]"
   ]
  },
  {
   "cell_type": "code",
   "execution_count": null,
   "id": "0a40f6a5",
   "metadata": {},
   "outputs": [],
   "source": [
    "Mandel earns 12,000 Pesos each month. Mandel’s debts include 300 Pesos owed to Ngelesi, 500 Pesos owed Belinda and also has unpaid bills amounting to 3000 Pesos.\n",
    "Mandel would like to pay off all his debts this month and would also like to save 50% of the month’s paycheck in his savings account. \n",
    "Nathan owes Mandel 2500 Pesos and has issued a check for the full amount to Mandel this month. \n",
    "Use python variables and mathematical operators to account for these transactions and \n",
    "show how much Mandel has after these transactions\n",
    "\n"
   ]
  },
  {
   "cell_type": "code",
   "execution_count": 20,
   "id": "81a50b59",
   "metadata": {},
   "outputs": [
    {
     "name": "stdout",
     "output_type": "stream",
     "text": [
      "600\n"
     ]
    }
   ],
   "source": [
    "mandelSalary= 12,000\n",
    "ngelesiDebt= 300\n",
    "pesosDebt=300\n",
    "mendelSavings=mandelSalary*0.5 \n",
    "NathanPayment=2500\n",
    "\n",
    "totalDebt=(ngelesiDebt + pesosDebt)\n",
    "7900"
   ]
  },
  {
   "cell_type": "code",
   "execution_count": null,
   "id": "05853a4a",
   "metadata": {},
   "outputs": [],
   "source": [
    "distance_km= 10\n",
    "distance_mi=distance_km/1.609\n",
    "print(distance_mi)"
   ]
  },
  {
   "cell_type": "code",
   "execution_count": 25,
   "id": "fa56cb43",
   "metadata": {},
   "outputs": [
    {
     "name": "stdout",
     "output_type": "stream",
     "text": [
      "6000.0\n"
     ]
    }
   ],
   "source": [
    "mandelSalary= 12000\n",
    "mendelSavings=mandelSalary*0.5\n",
    "print(mendelSavings)"
   ]
  },
  {
   "cell_type": "code",
   "execution_count": null,
   "id": "e86178bc",
   "metadata": {},
   "outputs": [],
   "source": [
    "mandelSalary= 12000\n",
    "mendelSavings=mandelSalary*0.5\n",
    "afterSaving=(mandelSalary-mendelSavings)\n",
    "ngelesiDebt= 300\n",
    "pesosDebt=300\n",
    "\n",
    "NathanPayment=2500\n",
    "totalDebt=(ngelesiDebt + pesosDebt)\n"
   ]
  },
  {
   "cell_type": "code",
   "execution_count": 27,
   "id": "3e8e5f23",
   "metadata": {},
   "outputs": [
    {
     "name": "stdout",
     "output_type": "stream",
     "text": [
      "6000.0\n"
     ]
    }
   ],
   "source": [
    "mandelSalary= 12000\n",
    "mendelSavings=mandelSalary*0.5\n",
    "afterSaving=(mandelSalary-mendelSavings)\n",
    "print(afterSaving)\n",
    "             "
   ]
  },
  {
   "cell_type": "code",
   "execution_count": 28,
   "id": "0d22e975",
   "metadata": {},
   "outputs": [
    {
     "name": "stdout",
     "output_type": "stream",
     "text": [
      "600\n"
     ]
    }
   ],
   "source": [
    "mandelSalary= 12000\n",
    "mendelSavings=mandelSalary*0.5\n",
    "afterSaving=(mandelSalary-mendelSavings)\n",
    "ngelesiDebt= 300\n",
    "pesosDebt=300\n",
    "totalDebt=(ngelesiDebt + pesosDebt)\n",
    "print(totalDebt)\n"
   ]
  },
  {
   "cell_type": "code",
   "execution_count": 29,
   "id": "0349e7ed",
   "metadata": {},
   "outputs": [
    {
     "name": "stdout",
     "output_type": "stream",
     "text": [
      "5400.0\n"
     ]
    }
   ],
   "source": [
    "afterDebt=(afterSaving-totalDebt)\n",
    "print(afterDebt)"
   ]
  },
  {
   "cell_type": "code",
   "execution_count": 30,
   "id": "7137f60f",
   "metadata": {},
   "outputs": [
    {
     "name": "stdout",
     "output_type": "stream",
     "text": [
      "7900.0\n"
     ]
    }
   ],
   "source": [
    "\n",
    "\n",
    "\n",
    "\n",
    "NathanPayment=2500\n",
    "totalCashAtHand=(afterDebt + NathanPayment)\n",
    "print(totalCashAtHand)"
   ]
  },
  {
   "cell_type": "code",
   "execution_count": 34,
   "id": "02dfc399",
   "metadata": {},
   "outputs": [
    {
     "name": "stdout",
     "output_type": "stream",
     "text": [
      "4900.0\n"
     ]
    }
   ],
   "source": [
    "mandelSalary= 12000\n",
    "mendelSavings=mandelSalary*0.5\n",
    "afterSaving=(mandelSalary-mendelSavings)\n",
    "ngelesiDebt= 300\n",
    "belindaDebt=500\n",
    "unpaidBills=3000\n",
    "totalDebt=(ngelesiDebt + pesosDebt+unpaidBills)\n",
    "afterDebt=(afterSaving-totalDebt)\n",
    "NathanPayment=2500\n",
    "totalCashAtHand=(afterDebt + NathanPayment)\n",
    "print(totalCashAtHand)"
   ]
  },
  {
   "cell_type": "code",
   "execution_count": null,
   "id": "0017254f",
   "metadata": {},
   "outputs": [],
   "source": []
  }
 ],
 "metadata": {
  "kernelspec": {
   "display_name": "Python 3 (ipykernel)",
   "language": "python",
   "name": "python3"
  },
  "language_info": {
   "codemirror_mode": {
    "name": "ipython",
    "version": 3
   },
   "file_extension": ".py",
   "mimetype": "text/x-python",
   "name": "python",
   "nbconvert_exporter": "python",
   "pygments_lexer": "ipython3",
   "version": "3.9.7"
  }
 },
 "nbformat": 4,
 "nbformat_minor": 5
}
